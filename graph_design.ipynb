{
 "cells": [
  {
   "cell_type": "code",
   "execution_count": 6,
   "metadata": {
    "ExecuteTime": {
     "end_time": "2024-02-19T00:40:25.530588Z",
     "start_time": "2024-02-19T00:40:25.401175Z"
    }
   },
   "outputs": [
    {
     "name": "stderr",
     "output_type": "stream",
     "text": [
      "F:\\Projects\\higgs-graphs\\higgs_dataloader.py:54: UserWarning:\n",
      "\n",
      "To copy construct from a tensor, it is recommended to use sourceTensor.clone().detach() or sourceTensor.clone().detach().requires_grad_(True), rather than torch.tensor(sourceTensor).\n",
      "\n"
     ]
    },
    {
     "data": {
      "application/vnd.plotly.v1+json": {
       "data": [
        {
         "hoverinfo": "none",
         "line": {
          "color": "#808080",
          "width": 2
         },
         "mode": "lines",
         "opacity": 0.8,
         "x": [
          -0.5890030611858256,
          -0.5890030611858256,
          null,
          0.1923635103763239,
          -0.5890030611858256,
          null,
          -0.27310695927171064,
          -0.5890030611858256,
          null,
          -0.7139692769015873,
          -0.5890030611858256,
          null,
          0.08265012999597064,
          -0.5890030611858256,
          null,
          -0.9362936995388472,
          -0.9362936995388472,
          null,
          -0.9362936995388472,
          -0.5890030611858256,
          null,
          -0.5522681174253365,
          -0.9362936995388472,
          null,
          -0.9746177870815516,
          -0.9362936995388472,
          null,
          -0.5987754172119167,
          -0.9362936995388472,
          null,
          -0.08147295273744494,
          -0.08147295273744494,
          null,
          -0.08147295273744494,
          -0.5890030611858256,
          null,
          0.4588956701858862,
          -0.08147295273744494,
          null,
          0.5307920891522775,
          -0.08147295273744494,
          null,
          0.4194067666388261,
          -0.08147295273744494,
          null,
          -0.010623528746748035,
          -0.010623528746748035,
          null,
          -0.010623528746748035,
          -0.5890030611858256,
          null,
          0.7978650219802733,
          -0.010623528746748035,
          null,
          0.6528513759934037,
          -0.010623528746748035,
          null,
          -0.028598094714267223,
          -0.010623528746748035,
          null,
          -0.18879630348992318,
          -0.18879630348992318,
          null,
          -0.18879630348992318,
          -0.5890030611858256,
          null,
          -0.3146607135068898,
          -0.18879630348992318,
          null,
          0.13999660850436757,
          -0.18879630348992318,
          null,
          -0.5324467213149553,
          -0.18879630348992318,
          null,
          -0.2119305342429535,
          -0.2119305342429535,
          null,
          -0.2119305342429535,
          -0.5890030611858256,
          null,
          0.7123383683288647,
          -0.2119305342429535,
          null,
          0.35536988293177607,
          -0.2119305342429535,
          null,
          0.5199746522411816,
          -0.2119305342429535,
          null,
          0.49481293788619474,
          -0.2119305342429535,
          null,
          0.2711186782166659,
          -0.2119305342429535,
          null,
          0.3781274749379468,
          -0.2119305342429535,
          null
         ],
         "y": [
          -0.644454659448052,
          -0.644454659448052,
          null,
          0.1925386155279467,
          -0.644454659448052,
          null,
          -0.7208686021953453,
          -0.644454659448052,
          null,
          -0.2481852559696679,
          -0.644454659448052,
          null,
          0.2606893960028694,
          -0.644454659448052,
          null,
          -0.582038654293089,
          -0.582038654293089,
          null,
          -0.582038654293089,
          -0.644454659448052,
          null,
          0.028459166177684393,
          -0.582038654293089,
          null,
          0.0481895855301418,
          -0.582038654293089,
          null,
          0.24528365790343198,
          -0.582038654293089,
          null,
          -0.6999079949409654,
          -0.6999079949409654,
          null,
          -0.6999079949409654,
          -0.644454659448052,
          null,
          -0.05224007192931405,
          -0.6999079949409654,
          null,
          -0.8535479154891776,
          -0.6999079949409654,
          null,
          -0.7084626831970784,
          -0.6999079949409654,
          null,
          -0.30394556164920944,
          -0.30394556164920944,
          null,
          -0.30394556164920944,
          -0.644454659448052,
          null,
          0.28526796677888605,
          -0.30394556164920944,
          null,
          -0.04676658054667985,
          -0.30394556164920944,
          null,
          0.31688015980850287,
          -0.30394556164920944,
          null,
          0.2476011320293256,
          0.2476011320293256,
          null,
          0.2476011320293256,
          -0.644454659448052,
          null,
          0.8098195395771635,
          0.2476011320293256,
          null,
          1.0,
          0.2476011320293256,
          null,
          0.7166325187889575,
          0.2476011320293256,
          null,
          -0.18386193078908517,
          -0.18386193078908517,
          null,
          -0.18386193078908517,
          -0.644454659448052,
          null,
          -0.10355662974533215,
          -0.18386193078908517,
          null,
          0.4060547433483844,
          -0.18386193078908517,
          null,
          -0.06608877269387829,
          -0.18386193078908517,
          null,
          0.30368220417734254,
          -0.18386193078908517,
          null,
          0.5591118190540736,
          -0.18386193078908517,
          null,
          -0.20628519181783597,
          -0.18386193078908517,
          null
         ],
         "type": "scatter"
        },
        {
         "hoverinfo": "text",
         "marker": {
          "color": "#fcfcfc",
          "colorbar": {
           "thickness": 15,
           "title": {
            "side": "right",
            "text": ""
           },
           "xanchor": "left"
          },
          "colorscale": [
           [
            0.0,
            "rgb(255,255,217)"
           ],
           [
            0.125,
            "rgb(237,248,177)"
           ],
           [
            0.25,
            "rgb(199,233,180)"
           ],
           [
            0.375,
            "rgb(127,205,187)"
           ],
           [
            0.5,
            "rgb(65,182,196)"
           ],
           [
            0.625,
            "rgb(29,145,192)"
           ],
           [
            0.75,
            "rgb(34,94,168)"
           ],
           [
            0.875,
            "rgb(37,52,148)"
           ],
           [
            1.0,
            "rgb(8,29,88)"
           ]
          ],
          "line": {
           "color": "#333333",
           "width": 2
          },
          "reversescale": false,
          "showscale": false,
          "size": 20
         },
         "mode": "markers+text",
         "opacity": 0.8,
         "text": [
          "lepton_pT",
          "lepton_eta",
          "lepton_phi",
          "missing_energy_magnitude",
          "missing_energy_phi",
          "jet_1_pt",
          "jet_1_eta",
          "jet_1_phi",
          "jet_1_b-tag",
          "jet_2_pt",
          "jet_2_eta",
          "jet_2_phi",
          "jet_2_b-tag",
          "jet_3_pt",
          "jet_3_eta",
          "jet_3_phi",
          "jet_3_b-tag",
          "jet_4_pt",
          "jet_4_eta",
          "jet_4_phi",
          "jet_4_b-tag",
          "m_jj",
          "m_jjj",
          "m_lv",
          "m_jlv",
          "m_bb",
          "m_wbb",
          "m_wwbb"
         ],
         "textfont": {
          "color": "#000000",
          "family": "Arial",
          "size": 14
         },
         "textposition": "top left",
         "x": [
          -0.5890030611858256,
          0.1923635103763239,
          -0.27310695927171064,
          -0.7139692769015873,
          0.08265012999597064,
          -0.9362936995388472,
          -0.5522681174253365,
          -0.9746177870815516,
          -0.5987754172119167,
          -0.08147295273744494,
          0.4588956701858862,
          0.5307920891522775,
          0.4194067666388261,
          -0.010623528746748035,
          0.7978650219802733,
          0.6528513759934037,
          -0.028598094714267223,
          -0.18879630348992318,
          -0.3146607135068898,
          0.13999660850436757,
          -0.5324467213149553,
          -0.2119305342429535,
          0.7123383683288647,
          0.35536988293177607,
          0.5199746522411816,
          0.49481293788619474,
          0.2711186782166659,
          0.3781274749379468
         ],
         "y": [
          -0.644454659448052,
          0.1925386155279467,
          -0.7208686021953453,
          -0.2481852559696679,
          0.2606893960028694,
          -0.582038654293089,
          0.028459166177684393,
          0.0481895855301418,
          0.24528365790343198,
          -0.6999079949409654,
          -0.05224007192931405,
          -0.8535479154891776,
          -0.7084626831970784,
          -0.30394556164920944,
          0.28526796677888605,
          -0.04676658054667985,
          0.31688015980850287,
          0.2476011320293256,
          0.8098195395771635,
          1.0,
          0.7166325187889575,
          -0.18386193078908517,
          -0.10355662974533215,
          0.4060547433483844,
          -0.06608877269387829,
          0.30368220417734254,
          0.5591118190540736,
          -0.20628519181783597
         ],
         "type": "scatter"
        }
       ],
       "layout": {
        "autosize": true,
        "hovermode": "closest",
        "margin": {
         "b": 5,
         "l": 0,
         "r": 0,
         "t": 20
        },
        "paper_bgcolor": "rgba(255,255,255,255)",
        "plot_bgcolor": "rgba(0,0,0,0)",
        "scene": {
         "xaxis": {
          "autorange": true,
          "showgrid": false,
          "showline": false,
          "showticklabels": false,
          "ticks": "",
          "visible": false,
          "zeroline": false
         },
         "yaxis": {
          "autorange": true,
          "showgrid": false,
          "showline": false,
          "showticklabels": false,
          "ticks": "",
          "visible": false,
          "zeroline": false
         },
         "zaxis": {
          "autorange": true,
          "showgrid": false,
          "showline": false,
          "showticklabels": false,
          "ticks": "",
          "visible": false,
          "zeroline": false
         }
        },
        "showlegend": false,
        "title": {
         "font": {
          "size": 16
         },
         "text": ""
        },
        "xaxis": {
         "autorange": true,
         "showgrid": false,
         "showline": false,
         "showticklabels": false,
         "ticks": "",
         "visible": false,
         "zeroline": false
        },
        "yaxis": {
         "autorange": true,
         "showgrid": false,
         "showline": false,
         "showticklabels": false,
         "ticks": "",
         "visible": false,
         "zeroline": false
        },
        "template": {
         "data": {
          "histogram2dcontour": [
           {
            "type": "histogram2dcontour",
            "colorbar": {
             "outlinewidth": 0,
             "ticks": ""
            },
            "colorscale": [
             [
              0.0,
              "#0d0887"
             ],
             [
              0.1111111111111111,
              "#46039f"
             ],
             [
              0.2222222222222222,
              "#7201a8"
             ],
             [
              0.3333333333333333,
              "#9c179e"
             ],
             [
              0.4444444444444444,
              "#bd3786"
             ],
             [
              0.5555555555555556,
              "#d8576b"
             ],
             [
              0.6666666666666666,
              "#ed7953"
             ],
             [
              0.7777777777777778,
              "#fb9f3a"
             ],
             [
              0.8888888888888888,
              "#fdca26"
             ],
             [
              1.0,
              "#f0f921"
             ]
            ]
           }
          ],
          "choropleth": [
           {
            "type": "choropleth",
            "colorbar": {
             "outlinewidth": 0,
             "ticks": ""
            }
           }
          ],
          "histogram2d": [
           {
            "type": "histogram2d",
            "colorbar": {
             "outlinewidth": 0,
             "ticks": ""
            },
            "colorscale": [
             [
              0.0,
              "#0d0887"
             ],
             [
              0.1111111111111111,
              "#46039f"
             ],
             [
              0.2222222222222222,
              "#7201a8"
             ],
             [
              0.3333333333333333,
              "#9c179e"
             ],
             [
              0.4444444444444444,
              "#bd3786"
             ],
             [
              0.5555555555555556,
              "#d8576b"
             ],
             [
              0.6666666666666666,
              "#ed7953"
             ],
             [
              0.7777777777777778,
              "#fb9f3a"
             ],
             [
              0.8888888888888888,
              "#fdca26"
             ],
             [
              1.0,
              "#f0f921"
             ]
            ]
           }
          ],
          "heatmap": [
           {
            "type": "heatmap",
            "colorbar": {
             "outlinewidth": 0,
             "ticks": ""
            },
            "colorscale": [
             [
              0.0,
              "#0d0887"
             ],
             [
              0.1111111111111111,
              "#46039f"
             ],
             [
              0.2222222222222222,
              "#7201a8"
             ],
             [
              0.3333333333333333,
              "#9c179e"
             ],
             [
              0.4444444444444444,
              "#bd3786"
             ],
             [
              0.5555555555555556,
              "#d8576b"
             ],
             [
              0.6666666666666666,
              "#ed7953"
             ],
             [
              0.7777777777777778,
              "#fb9f3a"
             ],
             [
              0.8888888888888888,
              "#fdca26"
             ],
             [
              1.0,
              "#f0f921"
             ]
            ]
           }
          ],
          "heatmapgl": [
           {
            "type": "heatmapgl",
            "colorbar": {
             "outlinewidth": 0,
             "ticks": ""
            },
            "colorscale": [
             [
              0.0,
              "#0d0887"
             ],
             [
              0.1111111111111111,
              "#46039f"
             ],
             [
              0.2222222222222222,
              "#7201a8"
             ],
             [
              0.3333333333333333,
              "#9c179e"
             ],
             [
              0.4444444444444444,
              "#bd3786"
             ],
             [
              0.5555555555555556,
              "#d8576b"
             ],
             [
              0.6666666666666666,
              "#ed7953"
             ],
             [
              0.7777777777777778,
              "#fb9f3a"
             ],
             [
              0.8888888888888888,
              "#fdca26"
             ],
             [
              1.0,
              "#f0f921"
             ]
            ]
           }
          ],
          "contourcarpet": [
           {
            "type": "contourcarpet",
            "colorbar": {
             "outlinewidth": 0,
             "ticks": ""
            }
           }
          ],
          "contour": [
           {
            "type": "contour",
            "colorbar": {
             "outlinewidth": 0,
             "ticks": ""
            },
            "colorscale": [
             [
              0.0,
              "#0d0887"
             ],
             [
              0.1111111111111111,
              "#46039f"
             ],
             [
              0.2222222222222222,
              "#7201a8"
             ],
             [
              0.3333333333333333,
              "#9c179e"
             ],
             [
              0.4444444444444444,
              "#bd3786"
             ],
             [
              0.5555555555555556,
              "#d8576b"
             ],
             [
              0.6666666666666666,
              "#ed7953"
             ],
             [
              0.7777777777777778,
              "#fb9f3a"
             ],
             [
              0.8888888888888888,
              "#fdca26"
             ],
             [
              1.0,
              "#f0f921"
             ]
            ]
           }
          ],
          "surface": [
           {
            "type": "surface",
            "colorbar": {
             "outlinewidth": 0,
             "ticks": ""
            },
            "colorscale": [
             [
              0.0,
              "#0d0887"
             ],
             [
              0.1111111111111111,
              "#46039f"
             ],
             [
              0.2222222222222222,
              "#7201a8"
             ],
             [
              0.3333333333333333,
              "#9c179e"
             ],
             [
              0.4444444444444444,
              "#bd3786"
             ],
             [
              0.5555555555555556,
              "#d8576b"
             ],
             [
              0.6666666666666666,
              "#ed7953"
             ],
             [
              0.7777777777777778,
              "#fb9f3a"
             ],
             [
              0.8888888888888888,
              "#fdca26"
             ],
             [
              1.0,
              "#f0f921"
             ]
            ]
           }
          ],
          "mesh3d": [
           {
            "type": "mesh3d",
            "colorbar": {
             "outlinewidth": 0,
             "ticks": ""
            }
           }
          ],
          "scatter": [
           {
            "fillpattern": {
             "fillmode": "overlay",
             "size": 10,
             "solidity": 0.2
            },
            "type": "scatter"
           }
          ],
          "parcoords": [
           {
            "type": "parcoords",
            "line": {
             "colorbar": {
              "outlinewidth": 0,
              "ticks": ""
             }
            }
           }
          ],
          "scatterpolargl": [
           {
            "type": "scatterpolargl",
            "marker": {
             "colorbar": {
              "outlinewidth": 0,
              "ticks": ""
             }
            }
           }
          ],
          "bar": [
           {
            "error_x": {
             "color": "#2a3f5f"
            },
            "error_y": {
             "color": "#2a3f5f"
            },
            "marker": {
             "line": {
              "color": "#E5ECF6",
              "width": 0.5
             },
             "pattern": {
              "fillmode": "overlay",
              "size": 10,
              "solidity": 0.2
             }
            },
            "type": "bar"
           }
          ],
          "scattergeo": [
           {
            "type": "scattergeo",
            "marker": {
             "colorbar": {
              "outlinewidth": 0,
              "ticks": ""
             }
            }
           }
          ],
          "scatterpolar": [
           {
            "type": "scatterpolar",
            "marker": {
             "colorbar": {
              "outlinewidth": 0,
              "ticks": ""
             }
            }
           }
          ],
          "histogram": [
           {
            "marker": {
             "pattern": {
              "fillmode": "overlay",
              "size": 10,
              "solidity": 0.2
             }
            },
            "type": "histogram"
           }
          ],
          "scattergl": [
           {
            "type": "scattergl",
            "marker": {
             "colorbar": {
              "outlinewidth": 0,
              "ticks": ""
             }
            }
           }
          ],
          "scatter3d": [
           {
            "type": "scatter3d",
            "line": {
             "colorbar": {
              "outlinewidth": 0,
              "ticks": ""
             }
            },
            "marker": {
             "colorbar": {
              "outlinewidth": 0,
              "ticks": ""
             }
            }
           }
          ],
          "scattermapbox": [
           {
            "type": "scattermapbox",
            "marker": {
             "colorbar": {
              "outlinewidth": 0,
              "ticks": ""
             }
            }
           }
          ],
          "scatterternary": [
           {
            "type": "scatterternary",
            "marker": {
             "colorbar": {
              "outlinewidth": 0,
              "ticks": ""
             }
            }
           }
          ],
          "scattercarpet": [
           {
            "type": "scattercarpet",
            "marker": {
             "colorbar": {
              "outlinewidth": 0,
              "ticks": ""
             }
            }
           }
          ],
          "carpet": [
           {
            "aaxis": {
             "endlinecolor": "#2a3f5f",
             "gridcolor": "white",
             "linecolor": "white",
             "minorgridcolor": "white",
             "startlinecolor": "#2a3f5f"
            },
            "baxis": {
             "endlinecolor": "#2a3f5f",
             "gridcolor": "white",
             "linecolor": "white",
             "minorgridcolor": "white",
             "startlinecolor": "#2a3f5f"
            },
            "type": "carpet"
           }
          ],
          "table": [
           {
            "cells": {
             "fill": {
              "color": "#EBF0F8"
             },
             "line": {
              "color": "white"
             }
            },
            "header": {
             "fill": {
              "color": "#C8D4E3"
             },
             "line": {
              "color": "white"
             }
            },
            "type": "table"
           }
          ],
          "barpolar": [
           {
            "marker": {
             "line": {
              "color": "#E5ECF6",
              "width": 0.5
             },
             "pattern": {
              "fillmode": "overlay",
              "size": 10,
              "solidity": 0.2
             }
            },
            "type": "barpolar"
           }
          ],
          "pie": [
           {
            "automargin": true,
            "type": "pie"
           }
          ]
         },
         "layout": {
          "autotypenumbers": "strict",
          "colorway": [
           "#636efa",
           "#EF553B",
           "#00cc96",
           "#ab63fa",
           "#FFA15A",
           "#19d3f3",
           "#FF6692",
           "#B6E880",
           "#FF97FF",
           "#FECB52"
          ],
          "font": {
           "color": "#2a3f5f"
          },
          "hovermode": "closest",
          "hoverlabel": {
           "align": "left"
          },
          "paper_bgcolor": "white",
          "plot_bgcolor": "#E5ECF6",
          "polar": {
           "bgcolor": "#E5ECF6",
           "angularaxis": {
            "gridcolor": "white",
            "linecolor": "white",
            "ticks": ""
           },
           "radialaxis": {
            "gridcolor": "white",
            "linecolor": "white",
            "ticks": ""
           }
          },
          "ternary": {
           "bgcolor": "#E5ECF6",
           "aaxis": {
            "gridcolor": "white",
            "linecolor": "white",
            "ticks": ""
           },
           "baxis": {
            "gridcolor": "white",
            "linecolor": "white",
            "ticks": ""
           },
           "caxis": {
            "gridcolor": "white",
            "linecolor": "white",
            "ticks": ""
           }
          },
          "coloraxis": {
           "colorbar": {
            "outlinewidth": 0,
            "ticks": ""
           }
          },
          "colorscale": {
           "sequential": [
            [
             0.0,
             "#0d0887"
            ],
            [
             0.1111111111111111,
             "#46039f"
            ],
            [
             0.2222222222222222,
             "#7201a8"
            ],
            [
             0.3333333333333333,
             "#9c179e"
            ],
            [
             0.4444444444444444,
             "#bd3786"
            ],
            [
             0.5555555555555556,
             "#d8576b"
            ],
            [
             0.6666666666666666,
             "#ed7953"
            ],
            [
             0.7777777777777778,
             "#fb9f3a"
            ],
            [
             0.8888888888888888,
             "#fdca26"
            ],
            [
             1.0,
             "#f0f921"
            ]
           ],
           "sequentialminus": [
            [
             0.0,
             "#0d0887"
            ],
            [
             0.1111111111111111,
             "#46039f"
            ],
            [
             0.2222222222222222,
             "#7201a8"
            ],
            [
             0.3333333333333333,
             "#9c179e"
            ],
            [
             0.4444444444444444,
             "#bd3786"
            ],
            [
             0.5555555555555556,
             "#d8576b"
            ],
            [
             0.6666666666666666,
             "#ed7953"
            ],
            [
             0.7777777777777778,
             "#fb9f3a"
            ],
            [
             0.8888888888888888,
             "#fdca26"
            ],
            [
             1.0,
             "#f0f921"
            ]
           ],
           "diverging": [
            [
             0,
             "#8e0152"
            ],
            [
             0.1,
             "#c51b7d"
            ],
            [
             0.2,
             "#de77ae"
            ],
            [
             0.3,
             "#f1b6da"
            ],
            [
             0.4,
             "#fde0ef"
            ],
            [
             0.5,
             "#f7f7f7"
            ],
            [
             0.6,
             "#e6f5d0"
            ],
            [
             0.7,
             "#b8e186"
            ],
            [
             0.8,
             "#7fbc41"
            ],
            [
             0.9,
             "#4d9221"
            ],
            [
             1,
             "#276419"
            ]
           ]
          },
          "xaxis": {
           "gridcolor": "white",
           "linecolor": "white",
           "ticks": "",
           "title": {
            "standoff": 15
           },
           "zerolinecolor": "white",
           "automargin": true,
           "zerolinewidth": 2
          },
          "yaxis": {
           "gridcolor": "white",
           "linecolor": "white",
           "ticks": "",
           "title": {
            "standoff": 15
           },
           "zerolinecolor": "white",
           "automargin": true,
           "zerolinewidth": 2
          },
          "scene": {
           "xaxis": {
            "backgroundcolor": "#E5ECF6",
            "gridcolor": "white",
            "linecolor": "white",
            "showbackground": true,
            "ticks": "",
            "zerolinecolor": "white",
            "gridwidth": 2
           },
           "yaxis": {
            "backgroundcolor": "#E5ECF6",
            "gridcolor": "white",
            "linecolor": "white",
            "showbackground": true,
            "ticks": "",
            "zerolinecolor": "white",
            "gridwidth": 2
           },
           "zaxis": {
            "backgroundcolor": "#E5ECF6",
            "gridcolor": "white",
            "linecolor": "white",
            "showbackground": true,
            "ticks": "",
            "zerolinecolor": "white",
            "gridwidth": 2
           }
          },
          "shapedefaults": {
           "line": {
            "color": "#2a3f5f"
           }
          },
          "annotationdefaults": {
           "arrowcolor": "#2a3f5f",
           "arrowhead": 0,
           "arrowwidth": 1
          },
          "geo": {
           "bgcolor": "white",
           "landcolor": "#E5ECF6",
           "subunitcolor": "white",
           "showland": true,
           "showlakes": true,
           "lakecolor": "white"
          },
          "title": {
           "x": 0.05
          },
          "mapbox": {
           "style": "light"
          }
         }
        }
       },
       "config": {
        "plotlyServerURL": "https://plot.ly"
       }
      },
      "text/html": "<div>                            <div id=\"be731b3a-bd9f-479a-8f83-4f957ccd0e1f\" class=\"plotly-graph-div\" style=\"height:525px; width:100%;\"></div>            <script type=\"text/javascript\">                require([\"plotly\"], function(Plotly) {                    window.PLOTLYENV=window.PLOTLYENV || {};                                    if (document.getElementById(\"be731b3a-bd9f-479a-8f83-4f957ccd0e1f\")) {                    Plotly.newPlot(                        \"be731b3a-bd9f-479a-8f83-4f957ccd0e1f\",                        [{\"hoverinfo\":\"none\",\"line\":{\"color\":\"#808080\",\"width\":2},\"mode\":\"lines\",\"opacity\":0.8,\"x\":[-0.5890030611858256,-0.5890030611858256,null,0.1923635103763239,-0.5890030611858256,null,-0.27310695927171064,-0.5890030611858256,null,-0.7139692769015873,-0.5890030611858256,null,0.08265012999597064,-0.5890030611858256,null,-0.9362936995388472,-0.9362936995388472,null,-0.9362936995388472,-0.5890030611858256,null,-0.5522681174253365,-0.9362936995388472,null,-0.9746177870815516,-0.9362936995388472,null,-0.5987754172119167,-0.9362936995388472,null,-0.08147295273744494,-0.08147295273744494,null,-0.08147295273744494,-0.5890030611858256,null,0.4588956701858862,-0.08147295273744494,null,0.5307920891522775,-0.08147295273744494,null,0.4194067666388261,-0.08147295273744494,null,-0.010623528746748035,-0.010623528746748035,null,-0.010623528746748035,-0.5890030611858256,null,0.7978650219802733,-0.010623528746748035,null,0.6528513759934037,-0.010623528746748035,null,-0.028598094714267223,-0.010623528746748035,null,-0.18879630348992318,-0.18879630348992318,null,-0.18879630348992318,-0.5890030611858256,null,-0.3146607135068898,-0.18879630348992318,null,0.13999660850436757,-0.18879630348992318,null,-0.5324467213149553,-0.18879630348992318,null,-0.2119305342429535,-0.2119305342429535,null,-0.2119305342429535,-0.5890030611858256,null,0.7123383683288647,-0.2119305342429535,null,0.35536988293177607,-0.2119305342429535,null,0.5199746522411816,-0.2119305342429535,null,0.49481293788619474,-0.2119305342429535,null,0.2711186782166659,-0.2119305342429535,null,0.3781274749379468,-0.2119305342429535,null],\"y\":[-0.644454659448052,-0.644454659448052,null,0.1925386155279467,-0.644454659448052,null,-0.7208686021953453,-0.644454659448052,null,-0.2481852559696679,-0.644454659448052,null,0.2606893960028694,-0.644454659448052,null,-0.582038654293089,-0.582038654293089,null,-0.582038654293089,-0.644454659448052,null,0.028459166177684393,-0.582038654293089,null,0.0481895855301418,-0.582038654293089,null,0.24528365790343198,-0.582038654293089,null,-0.6999079949409654,-0.6999079949409654,null,-0.6999079949409654,-0.644454659448052,null,-0.05224007192931405,-0.6999079949409654,null,-0.8535479154891776,-0.6999079949409654,null,-0.7084626831970784,-0.6999079949409654,null,-0.30394556164920944,-0.30394556164920944,null,-0.30394556164920944,-0.644454659448052,null,0.28526796677888605,-0.30394556164920944,null,-0.04676658054667985,-0.30394556164920944,null,0.31688015980850287,-0.30394556164920944,null,0.2476011320293256,0.2476011320293256,null,0.2476011320293256,-0.644454659448052,null,0.8098195395771635,0.2476011320293256,null,1.0,0.2476011320293256,null,0.7166325187889575,0.2476011320293256,null,-0.18386193078908517,-0.18386193078908517,null,-0.18386193078908517,-0.644454659448052,null,-0.10355662974533215,-0.18386193078908517,null,0.4060547433483844,-0.18386193078908517,null,-0.06608877269387829,-0.18386193078908517,null,0.30368220417734254,-0.18386193078908517,null,0.5591118190540736,-0.18386193078908517,null,-0.20628519181783597,-0.18386193078908517,null],\"type\":\"scatter\"},{\"hoverinfo\":\"text\",\"marker\":{\"color\":\"#fcfcfc\",\"colorbar\":{\"thickness\":15,\"title\":{\"side\":\"right\",\"text\":\"\"},\"xanchor\":\"left\"},\"colorscale\":[[0.0,\"rgb(255,255,217)\"],[0.125,\"rgb(237,248,177)\"],[0.25,\"rgb(199,233,180)\"],[0.375,\"rgb(127,205,187)\"],[0.5,\"rgb(65,182,196)\"],[0.625,\"rgb(29,145,192)\"],[0.75,\"rgb(34,94,168)\"],[0.875,\"rgb(37,52,148)\"],[1.0,\"rgb(8,29,88)\"]],\"line\":{\"color\":\"#333333\",\"width\":2},\"reversescale\":false,\"showscale\":false,\"size\":20},\"mode\":\"markers+text\",\"opacity\":0.8,\"text\":[\"lepton_pT\",\"lepton_eta\",\"lepton_phi\",\"missing_energy_magnitude\",\"missing_energy_phi\",\"jet_1_pt\",\"jet_1_eta\",\"jet_1_phi\",\"jet_1_b-tag\",\"jet_2_pt\",\"jet_2_eta\",\"jet_2_phi\",\"jet_2_b-tag\",\"jet_3_pt\",\"jet_3_eta\",\"jet_3_phi\",\"jet_3_b-tag\",\"jet_4_pt\",\"jet_4_eta\",\"jet_4_phi\",\"jet_4_b-tag\",\"m_jj\",\"m_jjj\",\"m_lv\",\"m_jlv\",\"m_bb\",\"m_wbb\",\"m_wwbb\"],\"textfont\":{\"color\":\"#000000\",\"family\":\"Arial\",\"size\":14},\"textposition\":\"top left\",\"x\":[-0.5890030611858256,0.1923635103763239,-0.27310695927171064,-0.7139692769015873,0.08265012999597064,-0.9362936995388472,-0.5522681174253365,-0.9746177870815516,-0.5987754172119167,-0.08147295273744494,0.4588956701858862,0.5307920891522775,0.4194067666388261,-0.010623528746748035,0.7978650219802733,0.6528513759934037,-0.028598094714267223,-0.18879630348992318,-0.3146607135068898,0.13999660850436757,-0.5324467213149553,-0.2119305342429535,0.7123383683288647,0.35536988293177607,0.5199746522411816,0.49481293788619474,0.2711186782166659,0.3781274749379468],\"y\":[-0.644454659448052,0.1925386155279467,-0.7208686021953453,-0.2481852559696679,0.2606893960028694,-0.582038654293089,0.028459166177684393,0.0481895855301418,0.24528365790343198,-0.6999079949409654,-0.05224007192931405,-0.8535479154891776,-0.7084626831970784,-0.30394556164920944,0.28526796677888605,-0.04676658054667985,0.31688015980850287,0.2476011320293256,0.8098195395771635,1.0,0.7166325187889575,-0.18386193078908517,-0.10355662974533215,0.4060547433483844,-0.06608877269387829,0.30368220417734254,0.5591118190540736,-0.20628519181783597],\"type\":\"scatter\"}],                        {\"autosize\":true,\"hovermode\":\"closest\",\"margin\":{\"b\":5,\"l\":0,\"r\":0,\"t\":20},\"paper_bgcolor\":\"rgba(255,255,255,255)\",\"plot_bgcolor\":\"rgba(0,0,0,0)\",\"scene\":{\"xaxis\":{\"autorange\":true,\"showgrid\":false,\"showline\":false,\"showticklabels\":false,\"ticks\":\"\",\"visible\":false,\"zeroline\":false},\"yaxis\":{\"autorange\":true,\"showgrid\":false,\"showline\":false,\"showticklabels\":false,\"ticks\":\"\",\"visible\":false,\"zeroline\":false},\"zaxis\":{\"autorange\":true,\"showgrid\":false,\"showline\":false,\"showticklabels\":false,\"ticks\":\"\",\"visible\":false,\"zeroline\":false}},\"showlegend\":false,\"title\":{\"font\":{\"size\":16},\"text\":\"\"},\"xaxis\":{\"autorange\":true,\"showgrid\":false,\"showline\":false,\"showticklabels\":false,\"ticks\":\"\",\"visible\":false,\"zeroline\":false},\"yaxis\":{\"autorange\":true,\"showgrid\":false,\"showline\":false,\"showticklabels\":false,\"ticks\":\"\",\"visible\":false,\"zeroline\":false},\"template\":{\"data\":{\"histogram2dcontour\":[{\"type\":\"histogram2dcontour\",\"colorbar\":{\"outlinewidth\":0,\"ticks\":\"\"},\"colorscale\":[[0.0,\"#0d0887\"],[0.1111111111111111,\"#46039f\"],[0.2222222222222222,\"#7201a8\"],[0.3333333333333333,\"#9c179e\"],[0.4444444444444444,\"#bd3786\"],[0.5555555555555556,\"#d8576b\"],[0.6666666666666666,\"#ed7953\"],[0.7777777777777778,\"#fb9f3a\"],[0.8888888888888888,\"#fdca26\"],[1.0,\"#f0f921\"]]}],\"choropleth\":[{\"type\":\"choropleth\",\"colorbar\":{\"outlinewidth\":0,\"ticks\":\"\"}}],\"histogram2d\":[{\"type\":\"histogram2d\",\"colorbar\":{\"outlinewidth\":0,\"ticks\":\"\"},\"colorscale\":[[0.0,\"#0d0887\"],[0.1111111111111111,\"#46039f\"],[0.2222222222222222,\"#7201a8\"],[0.3333333333333333,\"#9c179e\"],[0.4444444444444444,\"#bd3786\"],[0.5555555555555556,\"#d8576b\"],[0.6666666666666666,\"#ed7953\"],[0.7777777777777778,\"#fb9f3a\"],[0.8888888888888888,\"#fdca26\"],[1.0,\"#f0f921\"]]}],\"heatmap\":[{\"type\":\"heatmap\",\"colorbar\":{\"outlinewidth\":0,\"ticks\":\"\"},\"colorscale\":[[0.0,\"#0d0887\"],[0.1111111111111111,\"#46039f\"],[0.2222222222222222,\"#7201a8\"],[0.3333333333333333,\"#9c179e\"],[0.4444444444444444,\"#bd3786\"],[0.5555555555555556,\"#d8576b\"],[0.6666666666666666,\"#ed7953\"],[0.7777777777777778,\"#fb9f3a\"],[0.8888888888888888,\"#fdca26\"],[1.0,\"#f0f921\"]]}],\"heatmapgl\":[{\"type\":\"heatmapgl\",\"colorbar\":{\"outlinewidth\":0,\"ticks\":\"\"},\"colorscale\":[[0.0,\"#0d0887\"],[0.1111111111111111,\"#46039f\"],[0.2222222222222222,\"#7201a8\"],[0.3333333333333333,\"#9c179e\"],[0.4444444444444444,\"#bd3786\"],[0.5555555555555556,\"#d8576b\"],[0.6666666666666666,\"#ed7953\"],[0.7777777777777778,\"#fb9f3a\"],[0.8888888888888888,\"#fdca26\"],[1.0,\"#f0f921\"]]}],\"contourcarpet\":[{\"type\":\"contourcarpet\",\"colorbar\":{\"outlinewidth\":0,\"ticks\":\"\"}}],\"contour\":[{\"type\":\"contour\",\"colorbar\":{\"outlinewidth\":0,\"ticks\":\"\"},\"colorscale\":[[0.0,\"#0d0887\"],[0.1111111111111111,\"#46039f\"],[0.2222222222222222,\"#7201a8\"],[0.3333333333333333,\"#9c179e\"],[0.4444444444444444,\"#bd3786\"],[0.5555555555555556,\"#d8576b\"],[0.6666666666666666,\"#ed7953\"],[0.7777777777777778,\"#fb9f3a\"],[0.8888888888888888,\"#fdca26\"],[1.0,\"#f0f921\"]]}],\"surface\":[{\"type\":\"surface\",\"colorbar\":{\"outlinewidth\":0,\"ticks\":\"\"},\"colorscale\":[[0.0,\"#0d0887\"],[0.1111111111111111,\"#46039f\"],[0.2222222222222222,\"#7201a8\"],[0.3333333333333333,\"#9c179e\"],[0.4444444444444444,\"#bd3786\"],[0.5555555555555556,\"#d8576b\"],[0.6666666666666666,\"#ed7953\"],[0.7777777777777778,\"#fb9f3a\"],[0.8888888888888888,\"#fdca26\"],[1.0,\"#f0f921\"]]}],\"mesh3d\":[{\"type\":\"mesh3d\",\"colorbar\":{\"outlinewidth\":0,\"ticks\":\"\"}}],\"scatter\":[{\"fillpattern\":{\"fillmode\":\"overlay\",\"size\":10,\"solidity\":0.2},\"type\":\"scatter\"}],\"parcoords\":[{\"type\":\"parcoords\",\"line\":{\"colorbar\":{\"outlinewidth\":0,\"ticks\":\"\"}}}],\"scatterpolargl\":[{\"type\":\"scatterpolargl\",\"marker\":{\"colorbar\":{\"outlinewidth\":0,\"ticks\":\"\"}}}],\"bar\":[{\"error_x\":{\"color\":\"#2a3f5f\"},\"error_y\":{\"color\":\"#2a3f5f\"},\"marker\":{\"line\":{\"color\":\"#E5ECF6\",\"width\":0.5},\"pattern\":{\"fillmode\":\"overlay\",\"size\":10,\"solidity\":0.2}},\"type\":\"bar\"}],\"scattergeo\":[{\"type\":\"scattergeo\",\"marker\":{\"colorbar\":{\"outlinewidth\":0,\"ticks\":\"\"}}}],\"scatterpolar\":[{\"type\":\"scatterpolar\",\"marker\":{\"colorbar\":{\"outlinewidth\":0,\"ticks\":\"\"}}}],\"histogram\":[{\"marker\":{\"pattern\":{\"fillmode\":\"overlay\",\"size\":10,\"solidity\":0.2}},\"type\":\"histogram\"}],\"scattergl\":[{\"type\":\"scattergl\",\"marker\":{\"colorbar\":{\"outlinewidth\":0,\"ticks\":\"\"}}}],\"scatter3d\":[{\"type\":\"scatter3d\",\"line\":{\"colorbar\":{\"outlinewidth\":0,\"ticks\":\"\"}},\"marker\":{\"colorbar\":{\"outlinewidth\":0,\"ticks\":\"\"}}}],\"scattermapbox\":[{\"type\":\"scattermapbox\",\"marker\":{\"colorbar\":{\"outlinewidth\":0,\"ticks\":\"\"}}}],\"scatterternary\":[{\"type\":\"scatterternary\",\"marker\":{\"colorbar\":{\"outlinewidth\":0,\"ticks\":\"\"}}}],\"scattercarpet\":[{\"type\":\"scattercarpet\",\"marker\":{\"colorbar\":{\"outlinewidth\":0,\"ticks\":\"\"}}}],\"carpet\":[{\"aaxis\":{\"endlinecolor\":\"#2a3f5f\",\"gridcolor\":\"white\",\"linecolor\":\"white\",\"minorgridcolor\":\"white\",\"startlinecolor\":\"#2a3f5f\"},\"baxis\":{\"endlinecolor\":\"#2a3f5f\",\"gridcolor\":\"white\",\"linecolor\":\"white\",\"minorgridcolor\":\"white\",\"startlinecolor\":\"#2a3f5f\"},\"type\":\"carpet\"}],\"table\":[{\"cells\":{\"fill\":{\"color\":\"#EBF0F8\"},\"line\":{\"color\":\"white\"}},\"header\":{\"fill\":{\"color\":\"#C8D4E3\"},\"line\":{\"color\":\"white\"}},\"type\":\"table\"}],\"barpolar\":[{\"marker\":{\"line\":{\"color\":\"#E5ECF6\",\"width\":0.5},\"pattern\":{\"fillmode\":\"overlay\",\"size\":10,\"solidity\":0.2}},\"type\":\"barpolar\"}],\"pie\":[{\"automargin\":true,\"type\":\"pie\"}]},\"layout\":{\"autotypenumbers\":\"strict\",\"colorway\":[\"#636efa\",\"#EF553B\",\"#00cc96\",\"#ab63fa\",\"#FFA15A\",\"#19d3f3\",\"#FF6692\",\"#B6E880\",\"#FF97FF\",\"#FECB52\"],\"font\":{\"color\":\"#2a3f5f\"},\"hovermode\":\"closest\",\"hoverlabel\":{\"align\":\"left\"},\"paper_bgcolor\":\"white\",\"plot_bgcolor\":\"#E5ECF6\",\"polar\":{\"bgcolor\":\"#E5ECF6\",\"angularaxis\":{\"gridcolor\":\"white\",\"linecolor\":\"white\",\"ticks\":\"\"},\"radialaxis\":{\"gridcolor\":\"white\",\"linecolor\":\"white\",\"ticks\":\"\"}},\"ternary\":{\"bgcolor\":\"#E5ECF6\",\"aaxis\":{\"gridcolor\":\"white\",\"linecolor\":\"white\",\"ticks\":\"\"},\"baxis\":{\"gridcolor\":\"white\",\"linecolor\":\"white\",\"ticks\":\"\"},\"caxis\":{\"gridcolor\":\"white\",\"linecolor\":\"white\",\"ticks\":\"\"}},\"coloraxis\":{\"colorbar\":{\"outlinewidth\":0,\"ticks\":\"\"}},\"colorscale\":{\"sequential\":[[0.0,\"#0d0887\"],[0.1111111111111111,\"#46039f\"],[0.2222222222222222,\"#7201a8\"],[0.3333333333333333,\"#9c179e\"],[0.4444444444444444,\"#bd3786\"],[0.5555555555555556,\"#d8576b\"],[0.6666666666666666,\"#ed7953\"],[0.7777777777777778,\"#fb9f3a\"],[0.8888888888888888,\"#fdca26\"],[1.0,\"#f0f921\"]],\"sequentialminus\":[[0.0,\"#0d0887\"],[0.1111111111111111,\"#46039f\"],[0.2222222222222222,\"#7201a8\"],[0.3333333333333333,\"#9c179e\"],[0.4444444444444444,\"#bd3786\"],[0.5555555555555556,\"#d8576b\"],[0.6666666666666666,\"#ed7953\"],[0.7777777777777778,\"#fb9f3a\"],[0.8888888888888888,\"#fdca26\"],[1.0,\"#f0f921\"]],\"diverging\":[[0,\"#8e0152\"],[0.1,\"#c51b7d\"],[0.2,\"#de77ae\"],[0.3,\"#f1b6da\"],[0.4,\"#fde0ef\"],[0.5,\"#f7f7f7\"],[0.6,\"#e6f5d0\"],[0.7,\"#b8e186\"],[0.8,\"#7fbc41\"],[0.9,\"#4d9221\"],[1,\"#276419\"]]},\"xaxis\":{\"gridcolor\":\"white\",\"linecolor\":\"white\",\"ticks\":\"\",\"title\":{\"standoff\":15},\"zerolinecolor\":\"white\",\"automargin\":true,\"zerolinewidth\":2},\"yaxis\":{\"gridcolor\":\"white\",\"linecolor\":\"white\",\"ticks\":\"\",\"title\":{\"standoff\":15},\"zerolinecolor\":\"white\",\"automargin\":true,\"zerolinewidth\":2},\"scene\":{\"xaxis\":{\"backgroundcolor\":\"#E5ECF6\",\"gridcolor\":\"white\",\"linecolor\":\"white\",\"showbackground\":true,\"ticks\":\"\",\"zerolinecolor\":\"white\",\"gridwidth\":2},\"yaxis\":{\"backgroundcolor\":\"#E5ECF6\",\"gridcolor\":\"white\",\"linecolor\":\"white\",\"showbackground\":true,\"ticks\":\"\",\"zerolinecolor\":\"white\",\"gridwidth\":2},\"zaxis\":{\"backgroundcolor\":\"#E5ECF6\",\"gridcolor\":\"white\",\"linecolor\":\"white\",\"showbackground\":true,\"ticks\":\"\",\"zerolinecolor\":\"white\",\"gridwidth\":2}},\"shapedefaults\":{\"line\":{\"color\":\"#2a3f5f\"}},\"annotationdefaults\":{\"arrowcolor\":\"#2a3f5f\",\"arrowhead\":0,\"arrowwidth\":1},\"geo\":{\"bgcolor\":\"white\",\"landcolor\":\"#E5ECF6\",\"subunitcolor\":\"white\",\"showland\":true,\"showlakes\":true,\"lakecolor\":\"white\"},\"title\":{\"x\":0.05},\"mapbox\":{\"style\":\"light\"}}}},                        {\"responsive\": true}                    ).then(function(){\n                            \nvar gd = document.getElementById('be731b3a-bd9f-479a-8f83-4f957ccd0e1f');\nvar x = new MutationObserver(function (mutations, observer) {{\n        var display = window.getComputedStyle(gd).display;\n        if (!display || display === 'none') {{\n            console.log([gd, 'removed!']);\n            Plotly.purge(gd);\n            observer.disconnect();\n        }}\n}});\n\n// Listen for the removal of the full notebook cells\nvar notebookContainer = gd.closest('#notebook-container');\nif (notebookContainer) {{\n    x.observe(notebookContainer, {childList: true});\n}}\n\n// Listen for the clearing of the current output cell\nvar outputEl = gd.closest('.output');\nif (outputEl) {{\n    x.observe(outputEl, {childList: true});\n}}\n\n                        })                };                });            </script>        </div>"
     },
     "metadata": {},
     "output_type": "display_data"
    }
   ],
   "source": [
    "from torch_geometric.utils import to_networkx, erdos_renyi_graph, barabasi_albert_graph\n",
    "from higgs_dataloader import HiggsDatasetPyG\n",
    "import torch\n",
    "\n",
    "from utils import create_graph\n",
    "\n",
    "\n",
    "def generate_higgs_exp_graph_edge():\n",
    "    # Generate a fully connect graph between edge 0 and 5\n",
    "    fully_connect_physical = erdos_renyi_graph(5, 1.0)\n",
    "    fully_connect_jet_1 = erdos_renyi_graph(4, 1.0) + 5\n",
    "    fully_connect_jet_2 = erdos_renyi_graph(4, 1.0) + 9\n",
    "    fully_connect_jet_3 = erdos_renyi_graph(4, 1.0) + 13\n",
    "    fully_connect_jet_4 = erdos_renyi_graph(4, 1.0) + 17\n",
    "    fully_connect_manual_feat = erdos_renyi_graph(7, 1.0) + 21\n",
    "    connection = torch.tensor([[5, 9, 13, 17, 21], [0, 0, 0, 0, 0]])\n",
    "    all_edge = torch.cat(\n",
    "        [fully_connect_physical, fully_connect_jet_1, fully_connect_jet_2, fully_connect_jet_3, fully_connect_jet_4,\n",
    "         fully_connect_manual_feat, connection], dim=1)\n",
    "    return all_edge\n",
    "\n",
    "\n",
    "def generate_higgs_exp_graph_edge_v2():\n",
    "    # Generate a fully connect graph between edge 0 and 5\n",
    "    fully_connect_physical = barabasi_albert_graph(5, 4)\n",
    "    fully_connect_jet_1 = barabasi_albert_graph(4, 3) + 5\n",
    "    fully_connect_jet_2 = barabasi_albert_graph(4, 3) + 9\n",
    "    fully_connect_jet_3 = barabasi_albert_graph(4, 3) + 13\n",
    "    fully_connect_jet_4 = barabasi_albert_graph(4, 3) + 17\n",
    "    fully_connect_manual_feat = barabasi_albert_graph(7, 6) + 21\n",
    "    # connectionn = torch.tensor([[5, 9, 13, 17, 21], [0, 0, 0, 0, 0]])\n",
    "    all_edge = torch.cat(\n",
    "        [fully_connect_physical, fully_connect_jet_1, fully_connect_jet_2, fully_connect_jet_3, fully_connect_jet_4,\n",
    "         fully_connect_manual_feat], dim=1)\n",
    "    return all_edge\n",
    "\n",
    "def generate_higgs_exp_graph_edge_v3():\n",
    "    # Generate a fully connect graph between edge 0 and 5\n",
    "    fully_connect_physical = torch.tensor([[0, 1, 2, 3, 4], [0, 0, 0, 0, 0]])\n",
    "    fully_connect_jet_1 = torch.tensor([[0, 1, 2, 3], [0, 0, 0, 0]]) + 5\n",
    "    fully_connect_jet_2 = torch.tensor([[0, 1, 2, 3], [0, 0, 0, 0]]) + 9\n",
    "    fully_connect_jet_3 = torch.tensor([[0, 1, 2, 3], [0, 0, 0, 0]]) + 13\n",
    "    fully_connect_jet_4 = torch.tensor([[0, 1, 2, 3], [0, 0, 0, 0]]) + 17\n",
    "    fully_connect_manual_feat = torch.tensor([[0, 1, 2, 3, 4, 5, 6], [0, 0, 0, 0, 0, 0, 0]]) + 21\n",
    "    connection = torch.tensor([[5, 9, 13, 17, 21], [0, 0, 0, 0, 0]])\n",
    "    all_edge = torch.cat(\n",
    "        [fully_connect_physical, fully_connect_jet_1, fully_connect_jet_2, fully_connect_jet_3, fully_connect_jet_4,\n",
    "         fully_connect_manual_feat, connection], dim=1)\n",
    "    return all_edge\n",
    "\n",
    "\n",
    "csv_file = 'data/HIGGS.csv.gz'\n",
    "edge_index_hg = generate_higgs_exp_graph_edge_v3()\n",
    "higgs_dataset_train = HiggsDatasetPyG(csv_file=csv_file, edge_index=edge_index_hg, split='train', drop_feats=False)\n",
    "\n",
    "first_item = higgs_dataset_train[0]\n",
    "fig = create_graph(first_item)\n",
    "fig.show()"
   ]
  },
  {
   "cell_type": "code",
   "execution_count": 2,
   "metadata": {
    "ExecuteTime": {
     "end_time": "2024-02-19T00:38:02.407043300Z",
     "start_time": "2024-02-19T00:38:02.404540300Z"
    }
   },
   "outputs": [
    {
     "name": "stdout",
     "output_type": "stream",
     "text": [
      "torch.Size([28, 1])\n"
     ]
    }
   ],
   "source": [
    "print(first_item.x.shape)"
   ]
  }
 ],
 "metadata": {
  "kernelspec": {
   "display_name": "higgs-graphs",
   "language": "python",
   "name": "python3"
  },
  "language_info": {
   "codemirror_mode": {
    "name": "ipython",
    "version": 3
   },
   "file_extension": ".py",
   "mimetype": "text/x-python",
   "name": "python",
   "nbconvert_exporter": "python",
   "pygments_lexer": "ipython3",
   "version": "3.10.13"
  }
 },
 "nbformat": 4,
 "nbformat_minor": 2
}
