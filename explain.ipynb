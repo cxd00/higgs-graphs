{
 "cells": [
  {
   "cell_type": "code",
   "execution_count": 1,
   "id": "initial_id",
   "metadata": {
    "collapsed": true,
    "ExecuteTime": {
     "end_time": "2024-03-07T11:38:20.986509Z",
     "start_time": "2024-03-07T11:38:18.174739Z"
    }
   },
   "outputs": [],
   "source": [
    "import torch\n",
    "from torch_geometric.explain import Explainer, GNNExplainer\n",
    "from model import GNN, MLP, GNN_v2, GNN_v3, GNN_v3_mini, GNN_v4, GNN_v5, GNN_v6, GNN_v7\n",
    "from higgs_dataloader import HiggsDatasetPyG\n",
    "from utils import generate_higgs_exp_graph_edge\n",
    "import torch_geometric\n"
   ]
  },
  {
   "cell_type": "code",
   "outputs": [],
   "source": [
    "csv_file = 'data/HIGGS.csv.gz'\n",
    "edge_index_ba = generate_higgs_exp_graph_edge()\n",
    "test_dataset = HiggsDatasetPyG(csv_file=csv_file, edge_index=edge_index_ba, split='test', norm=False)\n",
    "test_loader = torch_geometric.loader.DataLoader(test_dataset, batch_size=1)\n"
   ],
   "metadata": {
    "collapsed": false,
    "ExecuteTime": {
     "end_time": "2024-03-07T11:38:21.114576Z",
     "start_time": "2024-03-07T11:38:20.987512Z"
    }
   },
   "id": "c1388af54f12f6cf",
   "execution_count": 2
  },
  {
   "cell_type": "code",
   "outputs": [
    {
     "data": {
      "text/plain": "<All keys matched successfully>"
     },
     "execution_count": 3,
     "metadata": {},
     "output_type": "execute_result"
    }
   ],
   "source": [
    "model = GNN_v5()\n",
    "model.load_state_dict(torch.load('best_model.pth'))"
   ],
   "metadata": {
    "collapsed": false,
    "ExecuteTime": {
     "end_time": "2024-03-07T11:38:21.256607Z",
     "start_time": "2024-03-07T11:38:21.115578Z"
    }
   },
   "id": "5603adf89d55f011",
   "execution_count": 3
  },
  {
   "cell_type": "code",
   "outputs": [],
   "source": [
    "explainer = Explainer(\n",
    "    model=model,\n",
    "    algorithm=GNNExplainer(epochs=200),\n",
    "    explanation_type='model',\n",
    "    node_mask_type=\"object\",\n",
    "    edge_mask_type=\"object\",\n",
    "    model_config=dict(\n",
    "        mode='binary_classification',\n",
    "        task_level='graph',\n",
    "        return_type='probs', \n",
    "    ),\n",
    ")\n",
    "batch = torch.zeros(28, dtype=torch.int64)\n",
    "for data in test_loader:\n",
    "    explanation = explainer(x=data.x, edge_index=data.edge_index, batch=data.batch)\n",
    "    break"
   ],
   "metadata": {
    "collapsed": false,
    "ExecuteTime": {
     "end_time": "2024-03-07T11:40:12.702258Z",
     "start_time": "2024-03-07T11:40:09.902870Z"
    }
   },
   "id": "cbe88455cce7f093",
   "execution_count": 13
  },
  {
   "cell_type": "code",
   "outputs": [],
   "source": [
    "explanation.visualize_graph()"
   ],
   "metadata": {
    "collapsed": false,
    "ExecuteTime": {
     "end_time": "2024-03-07T11:40:12.955039Z",
     "start_time": "2024-03-07T11:40:12.703261Z"
    }
   },
   "id": "a475e079d31477d7",
   "execution_count": 14
  },
  {
   "cell_type": "code",
   "outputs": [
    {
     "name": "stdout",
     "output_type": "stream",
     "text": [
      "-0.04766285419464111\n"
     ]
    }
   ],
   "source": [
    "from torch_geometric.explain import unfaithfulness\n",
    "\n",
    "metric = unfaithfulness(explainer, explanation)\n",
    "print(metric)"
   ],
   "metadata": {
    "collapsed": false,
    "ExecuteTime": {
     "end_time": "2024-03-07T11:40:25.868498Z",
     "start_time": "2024-03-07T11:40:25.852501Z"
    }
   },
   "id": "a041e6a12c959bd0",
   "execution_count": 15
  }
 ],
 "metadata": {
  "kernelspec": {
   "display_name": "Python 3",
   "language": "python",
   "name": "python3"
  },
  "language_info": {
   "codemirror_mode": {
    "name": "ipython",
    "version": 2
   },
   "file_extension": ".py",
   "mimetype": "text/x-python",
   "name": "python",
   "nbconvert_exporter": "python",
   "pygments_lexer": "ipython2",
   "version": "2.7.6"
  }
 },
 "nbformat": 4,
 "nbformat_minor": 5
}
